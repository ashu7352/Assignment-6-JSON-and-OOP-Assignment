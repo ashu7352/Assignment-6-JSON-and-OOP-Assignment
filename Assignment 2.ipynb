{
 "cells": [
  {
   "cell_type": "markdown",
   "id": "759a4988",
   "metadata": {},
   "source": [
    "Certainly! Here's a Python program that creates the Dog class, along with its child classes JackRussellTerrier and Bulldog, and implements the requested functionalities:"
   ]
  },
  {
   "cell_type": "code",
   "execution_count": 1,
   "id": "9ce95d74",
   "metadata": {},
   "outputs": [
    {
     "name": "stdout",
     "output_type": "stream",
     "text": [
      "Name: Max\n",
      "Age: 5\n",
      "Coat Color: Brown\n",
      "\n",
      "Name: Rocky\n",
      "Age: 3\n",
      "Coat Color: White and Brown\n",
      "Jack Russell Terrier is barking!\n",
      "\n",
      "Name: Bella\n",
      "Age: 4\n",
      "Coat Color: Fawn\n",
      "Bulldog is running!\n"
     ]
    }
   ],
   "source": [
    "# Parent class: Dog\n",
    "class Dog:\n",
    "    def __init__(self, name, age, coat_color):\n",
    "        self.name = name\n",
    "        self.age = age\n",
    "        self.coat_color = coat_color\n",
    "\n",
    "    def description(self):\n",
    "        print(\"Name:\", self.name)\n",
    "        print(\"Age:\", self.age)\n",
    "\n",
    "    def get_info(self):\n",
    "        print(\"Coat Color:\", self.coat_color)\n",
    "\n",
    "\n",
    "# Child class: JackRussellTerrier\n",
    "class JackRussellTerrier(Dog):\n",
    "    def __init__(self, name, age, coat_color):\n",
    "        super().__init__(name, age, coat_color)\n",
    "\n",
    "    def bark(self):\n",
    "        print(\"Jack Russell Terrier is barking!\")\n",
    "\n",
    "\n",
    "# Child class: Bulldog\n",
    "class Bulldog(Dog):\n",
    "    def __init__(self, name, age, coat_color):\n",
    "        super().__init__(name, age, coat_color)\n",
    "\n",
    "    def run(self):\n",
    "        print(\"Bulldog is running!\")\n",
    "\n",
    "\n",
    "# Create objects and implement functionalities\n",
    "dog1 = Dog(\"Max\", 5, \"Brown\")\n",
    "dog1.description()  # Output: Name: Max, Age: 5\n",
    "dog1.get_info()     # Output: Coat Color: Brown\n",
    "print()\n",
    "\n",
    "dog2 = JackRussellTerrier(\"Rocky\", 3, \"White and Brown\")\n",
    "dog2.description()  # Output: Name: Rocky, Age: 3\n",
    "dog2.get_info()     # Output: Coat Color: White and Brown\n",
    "dog2.bark()         # Output: Jack Russell Terrier is barking!\n",
    "print()\n",
    "\n",
    "dog3 = Bulldog(\"Bella\", 4, \"Fawn\")\n",
    "dog3.description()  # Output: Name: Bella, Age: 4\n",
    "dog3.get_info()     # Output: Coat Color: Fawn\n",
    "dog3.run()          # Output: Bulldog is running!\n"
   ]
  },
  {
   "cell_type": "markdown",
   "id": "62b2934e",
   "metadata": {},
   "source": [
    "In this program, the Dog class is the parent class, and it has two methods: description() to print the name and age of the dog, and get_info() to print the coat color of the dog.\n",
    "\n",
    "The child classes JackRussellTerrier and Bulldog inherit from the Dog class and have their own unique methods. JackRussellTerrier has the bark() method, and Bulldog has the run() method.\n",
    "\n",
    "We create objects of each class and demonstrate the functionalities by calling the respective methods.\n",
    "\n",
    "I hope this helps! Let me know if you have any further questions."
   ]
  }
 ],
 "metadata": {
  "kernelspec": {
   "display_name": "Python 3 (ipykernel)",
   "language": "python",
   "name": "python3"
  },
  "language_info": {
   "codemirror_mode": {
    "name": "ipython",
    "version": 3
   },
   "file_extension": ".py",
   "mimetype": "text/x-python",
   "name": "python",
   "nbconvert_exporter": "python",
   "pygments_lexer": "ipython3",
   "version": "3.10.9"
  }
 },
 "nbformat": 4,
 "nbformat_minor": 5
}
